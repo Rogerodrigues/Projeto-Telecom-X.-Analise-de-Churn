{
  "cells": [
    {
      "cell_type": "markdown",
      "metadata": {
        "id": "view-in-github",
        "colab_type": "text"
      },
      "source": [
        "<a href=\"https://colab.research.google.com/github/Rogerodrigues/Projeto-Telecom-X.-Analise-de-Churn/blob/main/Projeto_Telecom_X_An%C3%A1lise_de_Churn.ipynb\" target=\"_parent\"><img src=\"https://colab.research.google.com/assets/colab-badge.svg\" alt=\"Open In Colab\"/></a>"
      ]
    },
    {
      "cell_type": "markdown",
      "source": [
        "#### Dicionário de dados\n",
        "\n",
        "* `customerID`: número de identificação único de cada cliente\n",
        "* `Churn`: se o cliente deixou ou não a empresa\n",
        "* `gender`: gênero (masculino e feminino)\n",
        "* `SeniorCitizen`: informação sobre um cliente ter ou não idade igual ou maior que 65 anos\n",
        "* `Partner`:  se o cliente possui ou não um parceiro ou parceira\n",
        "* `Dependents`: se o cliente possui ou não dependentes\n",
        "* `tenure`:  meses de contrato do cliente\n",
        "* `PhoneService`: assinatura de serviço telefônico\n",
        "* `MultipleLines`: assisnatura de mais de uma linha de telefone\n",
        "* `InternetService`: assinatura de um provedor internet\n",
        "* `OnlineSecurity`: assinatura adicional de segurança online\n",
        "* `OnlineBackup`: assinatura adicional de backup online\n",
        "* `DeviceProtection`: assinatura adicional de proteção no dispositivo\n",
        "* `TechSupport`: assinatura adicional de suporte técnico, menos tempo de espera\n",
        "* `StreamingTV`: assinatura de TV a cabo\n",
        "* `StreamingMovies`: assinatura de streaming de filmes\n",
        "* `Contract`: tipo de contrato\n",
        "* `PaperlessBilling`: se o cliente prefere receber online a fatura\n",
        "* `PaymentMethod`: forma de pagamento\n",
        "* `Charges.Monthly`: total de todos os serviços do cliente por mês\n",
        "* `Charges.Total`: total gasto pelo cliente"
      ],
      "metadata": {
        "id": "YKqR6-lP-fzA"
      }
    },
    {
      "cell_type": "markdown",
      "metadata": {
        "id": "4foVEKhrlqcH"
      },
      "source": [
        "#📌 Extracão"
      ]
    },
    {
      "cell_type": "code",
      "source": [
        "import pandas as pd\n",
        "import matplotlib.pyplot as plt\n",
        "import seaborn as sns\n",
        "import numpy as np\n",
        "\n"
      ],
      "metadata": {
        "id": "X-IimPfJoBG2"
      },
      "execution_count": null,
      "outputs": []
    },
    {
      "cell_type": "code",
      "execution_count": null,
      "metadata": {
        "id": "1--uPM88l7JH",
        "colab": {
          "base_uri": "https://localhost:8080/",
          "height": 206
        },
        "outputId": "9636ec0b-083f-4f89-f41f-21a2505f66bf"
      },
      "outputs": [
        {
          "output_type": "execute_result",
          "data": {
            "text/plain": [
              "   customerID Churn                                           customer  \\\n",
              "0  0002-ORFBO    No  {'gender': 'Female', 'SeniorCitizen': 0, 'Part...   \n",
              "1  0003-MKNFE    No  {'gender': 'Male', 'SeniorCitizen': 0, 'Partne...   \n",
              "2  0004-TLHLJ   Yes  {'gender': 'Male', 'SeniorCitizen': 0, 'Partne...   \n",
              "3  0011-IGKFF   Yes  {'gender': 'Male', 'SeniorCitizen': 1, 'Partne...   \n",
              "4  0013-EXCHZ   Yes  {'gender': 'Female', 'SeniorCitizen': 1, 'Part...   \n",
              "\n",
              "                                             phone  \\\n",
              "0   {'PhoneService': 'Yes', 'MultipleLines': 'No'}   \n",
              "1  {'PhoneService': 'Yes', 'MultipleLines': 'Yes'}   \n",
              "2   {'PhoneService': 'Yes', 'MultipleLines': 'No'}   \n",
              "3   {'PhoneService': 'Yes', 'MultipleLines': 'No'}   \n",
              "4   {'PhoneService': 'Yes', 'MultipleLines': 'No'}   \n",
              "\n",
              "                                            internet  \\\n",
              "0  {'InternetService': 'DSL', 'OnlineSecurity': '...   \n",
              "1  {'InternetService': 'DSL', 'OnlineSecurity': '...   \n",
              "2  {'InternetService': 'Fiber optic', 'OnlineSecu...   \n",
              "3  {'InternetService': 'Fiber optic', 'OnlineSecu...   \n",
              "4  {'InternetService': 'Fiber optic', 'OnlineSecu...   \n",
              "\n",
              "                                             account  \n",
              "0  {'Contract': 'One year', 'PaperlessBilling': '...  \n",
              "1  {'Contract': 'Month-to-month', 'PaperlessBilli...  \n",
              "2  {'Contract': 'Month-to-month', 'PaperlessBilli...  \n",
              "3  {'Contract': 'Month-to-month', 'PaperlessBilli...  \n",
              "4  {'Contract': 'Month-to-month', 'PaperlessBilli...  "
            ],
            "text/html": [
              "\n",
              "  <div id=\"df-1a293e6f-a583-4461-ba26-815437ebcdf1\" class=\"colab-df-container\">\n",
              "    <div>\n",
              "<style scoped>\n",
              "    .dataframe tbody tr th:only-of-type {\n",
              "        vertical-align: middle;\n",
              "    }\n",
              "\n",
              "    .dataframe tbody tr th {\n",
              "        vertical-align: top;\n",
              "    }\n",
              "\n",
              "    .dataframe thead th {\n",
              "        text-align: right;\n",
              "    }\n",
              "</style>\n",
              "<table border=\"1\" class=\"dataframe\">\n",
              "  <thead>\n",
              "    <tr style=\"text-align: right;\">\n",
              "      <th></th>\n",
              "      <th>customerID</th>\n",
              "      <th>Churn</th>\n",
              "      <th>customer</th>\n",
              "      <th>phone</th>\n",
              "      <th>internet</th>\n",
              "      <th>account</th>\n",
              "    </tr>\n",
              "  </thead>\n",
              "  <tbody>\n",
              "    <tr>\n",
              "      <th>0</th>\n",
              "      <td>0002-ORFBO</td>\n",
              "      <td>No</td>\n",
              "      <td>{'gender': 'Female', 'SeniorCitizen': 0, 'Part...</td>\n",
              "      <td>{'PhoneService': 'Yes', 'MultipleLines': 'No'}</td>\n",
              "      <td>{'InternetService': 'DSL', 'OnlineSecurity': '...</td>\n",
              "      <td>{'Contract': 'One year', 'PaperlessBilling': '...</td>\n",
              "    </tr>\n",
              "    <tr>\n",
              "      <th>1</th>\n",
              "      <td>0003-MKNFE</td>\n",
              "      <td>No</td>\n",
              "      <td>{'gender': 'Male', 'SeniorCitizen': 0, 'Partne...</td>\n",
              "      <td>{'PhoneService': 'Yes', 'MultipleLines': 'Yes'}</td>\n",
              "      <td>{'InternetService': 'DSL', 'OnlineSecurity': '...</td>\n",
              "      <td>{'Contract': 'Month-to-month', 'PaperlessBilli...</td>\n",
              "    </tr>\n",
              "    <tr>\n",
              "      <th>2</th>\n",
              "      <td>0004-TLHLJ</td>\n",
              "      <td>Yes</td>\n",
              "      <td>{'gender': 'Male', 'SeniorCitizen': 0, 'Partne...</td>\n",
              "      <td>{'PhoneService': 'Yes', 'MultipleLines': 'No'}</td>\n",
              "      <td>{'InternetService': 'Fiber optic', 'OnlineSecu...</td>\n",
              "      <td>{'Contract': 'Month-to-month', 'PaperlessBilli...</td>\n",
              "    </tr>\n",
              "    <tr>\n",
              "      <th>3</th>\n",
              "      <td>0011-IGKFF</td>\n",
              "      <td>Yes</td>\n",
              "      <td>{'gender': 'Male', 'SeniorCitizen': 1, 'Partne...</td>\n",
              "      <td>{'PhoneService': 'Yes', 'MultipleLines': 'No'}</td>\n",
              "      <td>{'InternetService': 'Fiber optic', 'OnlineSecu...</td>\n",
              "      <td>{'Contract': 'Month-to-month', 'PaperlessBilli...</td>\n",
              "    </tr>\n",
              "    <tr>\n",
              "      <th>4</th>\n",
              "      <td>0013-EXCHZ</td>\n",
              "      <td>Yes</td>\n",
              "      <td>{'gender': 'Female', 'SeniorCitizen': 1, 'Part...</td>\n",
              "      <td>{'PhoneService': 'Yes', 'MultipleLines': 'No'}</td>\n",
              "      <td>{'InternetService': 'Fiber optic', 'OnlineSecu...</td>\n",
              "      <td>{'Contract': 'Month-to-month', 'PaperlessBilli...</td>\n",
              "    </tr>\n",
              "  </tbody>\n",
              "</table>\n",
              "</div>\n",
              "    <div class=\"colab-df-buttons\">\n",
              "\n",
              "  <div class=\"colab-df-container\">\n",
              "    <button class=\"colab-df-convert\" onclick=\"convertToInteractive('df-1a293e6f-a583-4461-ba26-815437ebcdf1')\"\n",
              "            title=\"Convert this dataframe to an interactive table.\"\n",
              "            style=\"display:none;\">\n",
              "\n",
              "  <svg xmlns=\"http://www.w3.org/2000/svg\" height=\"24px\" viewBox=\"0 -960 960 960\">\n",
              "    <path d=\"M120-120v-720h720v720H120Zm60-500h600v-160H180v160Zm220 220h160v-160H400v160Zm0 220h160v-160H400v160ZM180-400h160v-160H180v160Zm440 0h160v-160H620v160ZM180-180h160v-160H180v160Zm440 0h160v-160H620v160Z\"/>\n",
              "  </svg>\n",
              "    </button>\n",
              "\n",
              "  <style>\n",
              "    .colab-df-container {\n",
              "      display:flex;\n",
              "      gap: 12px;\n",
              "    }\n",
              "\n",
              "    .colab-df-convert {\n",
              "      background-color: #E8F0FE;\n",
              "      border: none;\n",
              "      border-radius: 50%;\n",
              "      cursor: pointer;\n",
              "      display: none;\n",
              "      fill: #1967D2;\n",
              "      height: 32px;\n",
              "      padding: 0 0 0 0;\n",
              "      width: 32px;\n",
              "    }\n",
              "\n",
              "    .colab-df-convert:hover {\n",
              "      background-color: #E2EBFA;\n",
              "      box-shadow: 0px 1px 2px rgba(60, 64, 67, 0.3), 0px 1px 3px 1px rgba(60, 64, 67, 0.15);\n",
              "      fill: #174EA6;\n",
              "    }\n",
              "\n",
              "    .colab-df-buttons div {\n",
              "      margin-bottom: 4px;\n",
              "    }\n",
              "\n",
              "    [theme=dark] .colab-df-convert {\n",
              "      background-color: #3B4455;\n",
              "      fill: #D2E3FC;\n",
              "    }\n",
              "\n",
              "    [theme=dark] .colab-df-convert:hover {\n",
              "      background-color: #434B5C;\n",
              "      box-shadow: 0px 1px 3px 1px rgba(0, 0, 0, 0.15);\n",
              "      filter: drop-shadow(0px 1px 2px rgba(0, 0, 0, 0.3));\n",
              "      fill: #FFFFFF;\n",
              "    }\n",
              "  </style>\n",
              "\n",
              "    <script>\n",
              "      const buttonEl =\n",
              "        document.querySelector('#df-1a293e6f-a583-4461-ba26-815437ebcdf1 button.colab-df-convert');\n",
              "      buttonEl.style.display =\n",
              "        google.colab.kernel.accessAllowed ? 'block' : 'none';\n",
              "\n",
              "      async function convertToInteractive(key) {\n",
              "        const element = document.querySelector('#df-1a293e6f-a583-4461-ba26-815437ebcdf1');\n",
              "        const dataTable =\n",
              "          await google.colab.kernel.invokeFunction('convertToInteractive',\n",
              "                                                    [key], {});\n",
              "        if (!dataTable) return;\n",
              "\n",
              "        const docLinkHtml = 'Like what you see? Visit the ' +\n",
              "          '<a target=\"_blank\" href=https://colab.research.google.com/notebooks/data_table.ipynb>data table notebook</a>'\n",
              "          + ' to learn more about interactive tables.';\n",
              "        element.innerHTML = '';\n",
              "        dataTable['output_type'] = 'display_data';\n",
              "        await google.colab.output.renderOutput(dataTable, element);\n",
              "        const docLink = document.createElement('div');\n",
              "        docLink.innerHTML = docLinkHtml;\n",
              "        element.appendChild(docLink);\n",
              "      }\n",
              "    </script>\n",
              "  </div>\n",
              "\n",
              "\n",
              "    <div id=\"df-d56e76a3-0072-4462-b6d9-c640bd6543f2\">\n",
              "      <button class=\"colab-df-quickchart\" onclick=\"quickchart('df-d56e76a3-0072-4462-b6d9-c640bd6543f2')\"\n",
              "                title=\"Suggest charts\"\n",
              "                style=\"display:none;\">\n",
              "\n",
              "<svg xmlns=\"http://www.w3.org/2000/svg\" height=\"24px\"viewBox=\"0 0 24 24\"\n",
              "     width=\"24px\">\n",
              "    <g>\n",
              "        <path d=\"M19 3H5c-1.1 0-2 .9-2 2v14c0 1.1.9 2 2 2h14c1.1 0 2-.9 2-2V5c0-1.1-.9-2-2-2zM9 17H7v-7h2v7zm4 0h-2V7h2v10zm4 0h-2v-4h2v4z\"/>\n",
              "    </g>\n",
              "</svg>\n",
              "      </button>\n",
              "\n",
              "<style>\n",
              "  .colab-df-quickchart {\n",
              "      --bg-color: #E8F0FE;\n",
              "      --fill-color: #1967D2;\n",
              "      --hover-bg-color: #E2EBFA;\n",
              "      --hover-fill-color: #174EA6;\n",
              "      --disabled-fill-color: #AAA;\n",
              "      --disabled-bg-color: #DDD;\n",
              "  }\n",
              "\n",
              "  [theme=dark] .colab-df-quickchart {\n",
              "      --bg-color: #3B4455;\n",
              "      --fill-color: #D2E3FC;\n",
              "      --hover-bg-color: #434B5C;\n",
              "      --hover-fill-color: #FFFFFF;\n",
              "      --disabled-bg-color: #3B4455;\n",
              "      --disabled-fill-color: #666;\n",
              "  }\n",
              "\n",
              "  .colab-df-quickchart {\n",
              "    background-color: var(--bg-color);\n",
              "    border: none;\n",
              "    border-radius: 50%;\n",
              "    cursor: pointer;\n",
              "    display: none;\n",
              "    fill: var(--fill-color);\n",
              "    height: 32px;\n",
              "    padding: 0;\n",
              "    width: 32px;\n",
              "  }\n",
              "\n",
              "  .colab-df-quickchart:hover {\n",
              "    background-color: var(--hover-bg-color);\n",
              "    box-shadow: 0 1px 2px rgba(60, 64, 67, 0.3), 0 1px 3px 1px rgba(60, 64, 67, 0.15);\n",
              "    fill: var(--button-hover-fill-color);\n",
              "  }\n",
              "\n",
              "  .colab-df-quickchart-complete:disabled,\n",
              "  .colab-df-quickchart-complete:disabled:hover {\n",
              "    background-color: var(--disabled-bg-color);\n",
              "    fill: var(--disabled-fill-color);\n",
              "    box-shadow: none;\n",
              "  }\n",
              "\n",
              "  .colab-df-spinner {\n",
              "    border: 2px solid var(--fill-color);\n",
              "    border-color: transparent;\n",
              "    border-bottom-color: var(--fill-color);\n",
              "    animation:\n",
              "      spin 1s steps(1) infinite;\n",
              "  }\n",
              "\n",
              "  @keyframes spin {\n",
              "    0% {\n",
              "      border-color: transparent;\n",
              "      border-bottom-color: var(--fill-color);\n",
              "      border-left-color: var(--fill-color);\n",
              "    }\n",
              "    20% {\n",
              "      border-color: transparent;\n",
              "      border-left-color: var(--fill-color);\n",
              "      border-top-color: var(--fill-color);\n",
              "    }\n",
              "    30% {\n",
              "      border-color: transparent;\n",
              "      border-left-color: var(--fill-color);\n",
              "      border-top-color: var(--fill-color);\n",
              "      border-right-color: var(--fill-color);\n",
              "    }\n",
              "    40% {\n",
              "      border-color: transparent;\n",
              "      border-right-color: var(--fill-color);\n",
              "      border-top-color: var(--fill-color);\n",
              "    }\n",
              "    60% {\n",
              "      border-color: transparent;\n",
              "      border-right-color: var(--fill-color);\n",
              "    }\n",
              "    80% {\n",
              "      border-color: transparent;\n",
              "      border-right-color: var(--fill-color);\n",
              "      border-bottom-color: var(--fill-color);\n",
              "    }\n",
              "    90% {\n",
              "      border-color: transparent;\n",
              "      border-bottom-color: var(--fill-color);\n",
              "    }\n",
              "  }\n",
              "</style>\n",
              "\n",
              "      <script>\n",
              "        async function quickchart(key) {\n",
              "          const quickchartButtonEl =\n",
              "            document.querySelector('#' + key + ' button');\n",
              "          quickchartButtonEl.disabled = true;  // To prevent multiple clicks.\n",
              "          quickchartButtonEl.classList.add('colab-df-spinner');\n",
              "          try {\n",
              "            const charts = await google.colab.kernel.invokeFunction(\n",
              "                'suggestCharts', [key], {});\n",
              "          } catch (error) {\n",
              "            console.error('Error during call to suggestCharts:', error);\n",
              "          }\n",
              "          quickchartButtonEl.classList.remove('colab-df-spinner');\n",
              "          quickchartButtonEl.classList.add('colab-df-quickchart-complete');\n",
              "        }\n",
              "        (() => {\n",
              "          let quickchartButtonEl =\n",
              "            document.querySelector('#df-d56e76a3-0072-4462-b6d9-c640bd6543f2 button');\n",
              "          quickchartButtonEl.style.display =\n",
              "            google.colab.kernel.accessAllowed ? 'block' : 'none';\n",
              "        })();\n",
              "      </script>\n",
              "    </div>\n",
              "\n",
              "    </div>\n",
              "  </div>\n"
            ],
            "application/vnd.google.colaboratory.intrinsic+json": {
              "type": "dataframe",
              "variable_name": "df",
              "summary": "{\n  \"name\": \"df\",\n  \"rows\": 7267,\n  \"fields\": [\n    {\n      \"column\": \"customerID\",\n      \"properties\": {\n        \"dtype\": \"string\",\n        \"num_unique_values\": 7267,\n        \"samples\": [\n          \"2038-OEQZH\",\n          \"6322-HRPFA\",\n          \"3969-JQABI\"\n        ],\n        \"semantic_type\": \"\",\n        \"description\": \"\"\n      }\n    },\n    {\n      \"column\": \"Churn\",\n      \"properties\": {\n        \"dtype\": \"category\",\n        \"num_unique_values\": 3,\n        \"samples\": [\n          \"No\",\n          \"Yes\",\n          \"\"\n        ],\n        \"semantic_type\": \"\",\n        \"description\": \"\"\n      }\n    },\n    {\n      \"column\": \"customer\",\n      \"properties\": {\n        \"dtype\": \"object\",\n        \"semantic_type\": \"\",\n        \"description\": \"\"\n      }\n    },\n    {\n      \"column\": \"phone\",\n      \"properties\": {\n        \"dtype\": \"object\",\n        \"semantic_type\": \"\",\n        \"description\": \"\"\n      }\n    },\n    {\n      \"column\": \"internet\",\n      \"properties\": {\n        \"dtype\": \"object\",\n        \"semantic_type\": \"\",\n        \"description\": \"\"\n      }\n    },\n    {\n      \"column\": \"account\",\n      \"properties\": {\n        \"dtype\": \"object\",\n        \"semantic_type\": \"\",\n        \"description\": \"\"\n      }\n    }\n  ]\n}"
            }
          },
          "metadata": {},
          "execution_count": 193
        }
      ],
      "source": [
        "# URL dos dados JSON\n",
        "url = \"https://raw.githubusercontent.com/alura-cursos/challenge2-data-science/main/TelecomX_Data.json\"\n",
        "\n",
        "# Lendo os dados\n",
        "df = pd.read_json(url)\n",
        "\n",
        "# Exibindo as primeiras linhas\n",
        "df.head()"
      ]
    },
    {
      "cell_type": "markdown",
      "metadata": {
        "id": "1lSZP8zmmGZu"
      },
      "source": [
        "#🔧 Transformação"
      ]
    },
    {
      "cell_type": "code",
      "source": [
        "# Dimensão do dataset\n",
        "print(\"Dimensão do dataset:\", df.shape)\n",
        "\n",
        "# Tipos de dados\n",
        "df.info()\n",
        "\n",
        "# Verificar valores ausentes\n",
        "df.isnull().sum()\n",
        "\n"
      ],
      "metadata": {
        "colab": {
          "base_uri": "https://localhost:8080/",
          "height": 531
        },
        "id": "VBVaIztfoS0v",
        "outputId": "aaa664b3-4677-4cc1-cd1b-1ccdbbea8b73"
      },
      "execution_count": null,
      "outputs": [
        {
          "output_type": "stream",
          "name": "stdout",
          "text": [
            "Dimensão do dataset: (7267, 6)\n",
            "<class 'pandas.core.frame.DataFrame'>\n",
            "RangeIndex: 7267 entries, 0 to 7266\n",
            "Data columns (total 6 columns):\n",
            " #   Column      Non-Null Count  Dtype \n",
            "---  ------      --------------  ----- \n",
            " 0   customerID  7267 non-null   object\n",
            " 1   Churn       7267 non-null   object\n",
            " 2   customer    7267 non-null   object\n",
            " 3   phone       7267 non-null   object\n",
            " 4   internet    7267 non-null   object\n",
            " 5   account     7267 non-null   object\n",
            "dtypes: object(6)\n",
            "memory usage: 340.8+ KB\n"
          ]
        },
        {
          "output_type": "execute_result",
          "data": {
            "text/plain": [
              "customerID    0\n",
              "Churn         0\n",
              "customer      0\n",
              "phone         0\n",
              "internet      0\n",
              "account       0\n",
              "dtype: int64"
            ],
            "text/html": [
              "<div>\n",
              "<style scoped>\n",
              "    .dataframe tbody tr th:only-of-type {\n",
              "        vertical-align: middle;\n",
              "    }\n",
              "\n",
              "    .dataframe tbody tr th {\n",
              "        vertical-align: top;\n",
              "    }\n",
              "\n",
              "    .dataframe thead th {\n",
              "        text-align: right;\n",
              "    }\n",
              "</style>\n",
              "<table border=\"1\" class=\"dataframe\">\n",
              "  <thead>\n",
              "    <tr style=\"text-align: right;\">\n",
              "      <th></th>\n",
              "      <th>0</th>\n",
              "    </tr>\n",
              "  </thead>\n",
              "  <tbody>\n",
              "    <tr>\n",
              "      <th>customerID</th>\n",
              "      <td>0</td>\n",
              "    </tr>\n",
              "    <tr>\n",
              "      <th>Churn</th>\n",
              "      <td>0</td>\n",
              "    </tr>\n",
              "    <tr>\n",
              "      <th>customer</th>\n",
              "      <td>0</td>\n",
              "    </tr>\n",
              "    <tr>\n",
              "      <th>phone</th>\n",
              "      <td>0</td>\n",
              "    </tr>\n",
              "    <tr>\n",
              "      <th>internet</th>\n",
              "      <td>0</td>\n",
              "    </tr>\n",
              "    <tr>\n",
              "      <th>account</th>\n",
              "      <td>0</td>\n",
              "    </tr>\n",
              "  </tbody>\n",
              "</table>\n",
              "</div><br><label><b>dtype:</b> int64</label>"
            ]
          },
          "metadata": {},
          "execution_count": 194
        }
      ]
    },
    {
      "cell_type": "code",
      "source": [
        "# Preencher valores ausentes com a mediana (caso faça sentido para as colunas numéricas)\n",
        "df.fillna(df.median(numeric_only=True), inplace=True)\n"
      ],
      "metadata": {
        "id": "0eFcdYeLDfGQ"
      },
      "execution_count": null,
      "outputs": []
    },
    {
      "cell_type": "code",
      "source": [
        "# Checagem antes de começar a análise\n",
        "\n",
        "print(\"\\nInformações após a limpeza:\")\n",
        "df.info()\n",
        "\n",
        "print(\"\\nVisualizando primeiras linhas após limpeza:\")\n",
        "df.head()\n"
      ],
      "metadata": {
        "colab": {
          "base_uri": "https://localhost:8080/",
          "height": 520
        },
        "id": "_RrxVRJQpHvB",
        "outputId": "cf9f812a-02b0-426a-e52c-eb5206f203ba"
      },
      "execution_count": null,
      "outputs": [
        {
          "output_type": "stream",
          "name": "stdout",
          "text": [
            "\n",
            "Informações após a limpeza:\n",
            "<class 'pandas.core.frame.DataFrame'>\n",
            "RangeIndex: 7267 entries, 0 to 7266\n",
            "Data columns (total 6 columns):\n",
            " #   Column      Non-Null Count  Dtype \n",
            "---  ------      --------------  ----- \n",
            " 0   customerID  7267 non-null   object\n",
            " 1   Churn       7267 non-null   object\n",
            " 2   customer    7267 non-null   object\n",
            " 3   phone       7267 non-null   object\n",
            " 4   internet    7267 non-null   object\n",
            " 5   account     7267 non-null   object\n",
            "dtypes: object(6)\n",
            "memory usage: 340.8+ KB\n",
            "\n",
            "Visualizando primeiras linhas após limpeza:\n"
          ]
        },
        {
          "output_type": "execute_result",
          "data": {
            "text/plain": [
              "   customerID Churn                                           customer  \\\n",
              "0  0002-ORFBO    No  {'gender': 'Female', 'SeniorCitizen': 0, 'Part...   \n",
              "1  0003-MKNFE    No  {'gender': 'Male', 'SeniorCitizen': 0, 'Partne...   \n",
              "2  0004-TLHLJ   Yes  {'gender': 'Male', 'SeniorCitizen': 0, 'Partne...   \n",
              "3  0011-IGKFF   Yes  {'gender': 'Male', 'SeniorCitizen': 1, 'Partne...   \n",
              "4  0013-EXCHZ   Yes  {'gender': 'Female', 'SeniorCitizen': 1, 'Part...   \n",
              "\n",
              "                                             phone  \\\n",
              "0   {'PhoneService': 'Yes', 'MultipleLines': 'No'}   \n",
              "1  {'PhoneService': 'Yes', 'MultipleLines': 'Yes'}   \n",
              "2   {'PhoneService': 'Yes', 'MultipleLines': 'No'}   \n",
              "3   {'PhoneService': 'Yes', 'MultipleLines': 'No'}   \n",
              "4   {'PhoneService': 'Yes', 'MultipleLines': 'No'}   \n",
              "\n",
              "                                            internet  \\\n",
              "0  {'InternetService': 'DSL', 'OnlineSecurity': '...   \n",
              "1  {'InternetService': 'DSL', 'OnlineSecurity': '...   \n",
              "2  {'InternetService': 'Fiber optic', 'OnlineSecu...   \n",
              "3  {'InternetService': 'Fiber optic', 'OnlineSecu...   \n",
              "4  {'InternetService': 'Fiber optic', 'OnlineSecu...   \n",
              "\n",
              "                                             account  \n",
              "0  {'Contract': 'One year', 'PaperlessBilling': '...  \n",
              "1  {'Contract': 'Month-to-month', 'PaperlessBilli...  \n",
              "2  {'Contract': 'Month-to-month', 'PaperlessBilli...  \n",
              "3  {'Contract': 'Month-to-month', 'PaperlessBilli...  \n",
              "4  {'Contract': 'Month-to-month', 'PaperlessBilli...  "
            ],
            "text/html": [
              "\n",
              "  <div id=\"df-f2cf5540-a37b-4081-ab11-06e6736f92f3\" class=\"colab-df-container\">\n",
              "    <div>\n",
              "<style scoped>\n",
              "    .dataframe tbody tr th:only-of-type {\n",
              "        vertical-align: middle;\n",
              "    }\n",
              "\n",
              "    .dataframe tbody tr th {\n",
              "        vertical-align: top;\n",
              "    }\n",
              "\n",
              "    .dataframe thead th {\n",
              "        text-align: right;\n",
              "    }\n",
              "</style>\n",
              "<table border=\"1\" class=\"dataframe\">\n",
              "  <thead>\n",
              "    <tr style=\"text-align: right;\">\n",
              "      <th></th>\n",
              "      <th>customerID</th>\n",
              "      <th>Churn</th>\n",
              "      <th>customer</th>\n",
              "      <th>phone</th>\n",
              "      <th>internet</th>\n",
              "      <th>account</th>\n",
              "    </tr>\n",
              "  </thead>\n",
              "  <tbody>\n",
              "    <tr>\n",
              "      <th>0</th>\n",
              "      <td>0002-ORFBO</td>\n",
              "      <td>No</td>\n",
              "      <td>{'gender': 'Female', 'SeniorCitizen': 0, 'Part...</td>\n",
              "      <td>{'PhoneService': 'Yes', 'MultipleLines': 'No'}</td>\n",
              "      <td>{'InternetService': 'DSL', 'OnlineSecurity': '...</td>\n",
              "      <td>{'Contract': 'One year', 'PaperlessBilling': '...</td>\n",
              "    </tr>\n",
              "    <tr>\n",
              "      <th>1</th>\n",
              "      <td>0003-MKNFE</td>\n",
              "      <td>No</td>\n",
              "      <td>{'gender': 'Male', 'SeniorCitizen': 0, 'Partne...</td>\n",
              "      <td>{'PhoneService': 'Yes', 'MultipleLines': 'Yes'}</td>\n",
              "      <td>{'InternetService': 'DSL', 'OnlineSecurity': '...</td>\n",
              "      <td>{'Contract': 'Month-to-month', 'PaperlessBilli...</td>\n",
              "    </tr>\n",
              "    <tr>\n",
              "      <th>2</th>\n",
              "      <td>0004-TLHLJ</td>\n",
              "      <td>Yes</td>\n",
              "      <td>{'gender': 'Male', 'SeniorCitizen': 0, 'Partne...</td>\n",
              "      <td>{'PhoneService': 'Yes', 'MultipleLines': 'No'}</td>\n",
              "      <td>{'InternetService': 'Fiber optic', 'OnlineSecu...</td>\n",
              "      <td>{'Contract': 'Month-to-month', 'PaperlessBilli...</td>\n",
              "    </tr>\n",
              "    <tr>\n",
              "      <th>3</th>\n",
              "      <td>0011-IGKFF</td>\n",
              "      <td>Yes</td>\n",
              "      <td>{'gender': 'Male', 'SeniorCitizen': 1, 'Partne...</td>\n",
              "      <td>{'PhoneService': 'Yes', 'MultipleLines': 'No'}</td>\n",
              "      <td>{'InternetService': 'Fiber optic', 'OnlineSecu...</td>\n",
              "      <td>{'Contract': 'Month-to-month', 'PaperlessBilli...</td>\n",
              "    </tr>\n",
              "    <tr>\n",
              "      <th>4</th>\n",
              "      <td>0013-EXCHZ</td>\n",
              "      <td>Yes</td>\n",
              "      <td>{'gender': 'Female', 'SeniorCitizen': 1, 'Part...</td>\n",
              "      <td>{'PhoneService': 'Yes', 'MultipleLines': 'No'}</td>\n",
              "      <td>{'InternetService': 'Fiber optic', 'OnlineSecu...</td>\n",
              "      <td>{'Contract': 'Month-to-month', 'PaperlessBilli...</td>\n",
              "    </tr>\n",
              "  </tbody>\n",
              "</table>\n",
              "</div>\n",
              "    <div class=\"colab-df-buttons\">\n",
              "\n",
              "  <div class=\"colab-df-container\">\n",
              "    <button class=\"colab-df-convert\" onclick=\"convertToInteractive('df-f2cf5540-a37b-4081-ab11-06e6736f92f3')\"\n",
              "            title=\"Convert this dataframe to an interactive table.\"\n",
              "            style=\"display:none;\">\n",
              "\n",
              "  <svg xmlns=\"http://www.w3.org/2000/svg\" height=\"24px\" viewBox=\"0 -960 960 960\">\n",
              "    <path d=\"M120-120v-720h720v720H120Zm60-500h600v-160H180v160Zm220 220h160v-160H400v160Zm0 220h160v-160H400v160ZM180-400h160v-160H180v160Zm440 0h160v-160H620v160ZM180-180h160v-160H180v160Zm440 0h160v-160H620v160Z\"/>\n",
              "  </svg>\n",
              "    </button>\n",
              "\n",
              "  <style>\n",
              "    .colab-df-container {\n",
              "      display:flex;\n",
              "      gap: 12px;\n",
              "    }\n",
              "\n",
              "    .colab-df-convert {\n",
              "      background-color: #E8F0FE;\n",
              "      border: none;\n",
              "      border-radius: 50%;\n",
              "      cursor: pointer;\n",
              "      display: none;\n",
              "      fill: #1967D2;\n",
              "      height: 32px;\n",
              "      padding: 0 0 0 0;\n",
              "      width: 32px;\n",
              "    }\n",
              "\n",
              "    .colab-df-convert:hover {\n",
              "      background-color: #E2EBFA;\n",
              "      box-shadow: 0px 1px 2px rgba(60, 64, 67, 0.3), 0px 1px 3px 1px rgba(60, 64, 67, 0.15);\n",
              "      fill: #174EA6;\n",
              "    }\n",
              "\n",
              "    .colab-df-buttons div {\n",
              "      margin-bottom: 4px;\n",
              "    }\n",
              "\n",
              "    [theme=dark] .colab-df-convert {\n",
              "      background-color: #3B4455;\n",
              "      fill: #D2E3FC;\n",
              "    }\n",
              "\n",
              "    [theme=dark] .colab-df-convert:hover {\n",
              "      background-color: #434B5C;\n",
              "      box-shadow: 0px 1px 3px 1px rgba(0, 0, 0, 0.15);\n",
              "      filter: drop-shadow(0px 1px 2px rgba(0, 0, 0, 0.3));\n",
              "      fill: #FFFFFF;\n",
              "    }\n",
              "  </style>\n",
              "\n",
              "    <script>\n",
              "      const buttonEl =\n",
              "        document.querySelector('#df-f2cf5540-a37b-4081-ab11-06e6736f92f3 button.colab-df-convert');\n",
              "      buttonEl.style.display =\n",
              "        google.colab.kernel.accessAllowed ? 'block' : 'none';\n",
              "\n",
              "      async function convertToInteractive(key) {\n",
              "        const element = document.querySelector('#df-f2cf5540-a37b-4081-ab11-06e6736f92f3');\n",
              "        const dataTable =\n",
              "          await google.colab.kernel.invokeFunction('convertToInteractive',\n",
              "                                                    [key], {});\n",
              "        if (!dataTable) return;\n",
              "\n",
              "        const docLinkHtml = 'Like what you see? Visit the ' +\n",
              "          '<a target=\"_blank\" href=https://colab.research.google.com/notebooks/data_table.ipynb>data table notebook</a>'\n",
              "          + ' to learn more about interactive tables.';\n",
              "        element.innerHTML = '';\n",
              "        dataTable['output_type'] = 'display_data';\n",
              "        await google.colab.output.renderOutput(dataTable, element);\n",
              "        const docLink = document.createElement('div');\n",
              "        docLink.innerHTML = docLinkHtml;\n",
              "        element.appendChild(docLink);\n",
              "      }\n",
              "    </script>\n",
              "  </div>\n",
              "\n",
              "\n",
              "    <div id=\"df-cf4b5295-6654-4f1b-8726-46afde459d49\">\n",
              "      <button class=\"colab-df-quickchart\" onclick=\"quickchart('df-cf4b5295-6654-4f1b-8726-46afde459d49')\"\n",
              "                title=\"Suggest charts\"\n",
              "                style=\"display:none;\">\n",
              "\n",
              "<svg xmlns=\"http://www.w3.org/2000/svg\" height=\"24px\"viewBox=\"0 0 24 24\"\n",
              "     width=\"24px\">\n",
              "    <g>\n",
              "        <path d=\"M19 3H5c-1.1 0-2 .9-2 2v14c0 1.1.9 2 2 2h14c1.1 0 2-.9 2-2V5c0-1.1-.9-2-2-2zM9 17H7v-7h2v7zm4 0h-2V7h2v10zm4 0h-2v-4h2v4z\"/>\n",
              "    </g>\n",
              "</svg>\n",
              "      </button>\n",
              "\n",
              "<style>\n",
              "  .colab-df-quickchart {\n",
              "      --bg-color: #E8F0FE;\n",
              "      --fill-color: #1967D2;\n",
              "      --hover-bg-color: #E2EBFA;\n",
              "      --hover-fill-color: #174EA6;\n",
              "      --disabled-fill-color: #AAA;\n",
              "      --disabled-bg-color: #DDD;\n",
              "  }\n",
              "\n",
              "  [theme=dark] .colab-df-quickchart {\n",
              "      --bg-color: #3B4455;\n",
              "      --fill-color: #D2E3FC;\n",
              "      --hover-bg-color: #434B5C;\n",
              "      --hover-fill-color: #FFFFFF;\n",
              "      --disabled-bg-color: #3B4455;\n",
              "      --disabled-fill-color: #666;\n",
              "  }\n",
              "\n",
              "  .colab-df-quickchart {\n",
              "    background-color: var(--bg-color);\n",
              "    border: none;\n",
              "    border-radius: 50%;\n",
              "    cursor: pointer;\n",
              "    display: none;\n",
              "    fill: var(--fill-color);\n",
              "    height: 32px;\n",
              "    padding: 0;\n",
              "    width: 32px;\n",
              "  }\n",
              "\n",
              "  .colab-df-quickchart:hover {\n",
              "    background-color: var(--hover-bg-color);\n",
              "    box-shadow: 0 1px 2px rgba(60, 64, 67, 0.3), 0 1px 3px 1px rgba(60, 64, 67, 0.15);\n",
              "    fill: var(--button-hover-fill-color);\n",
              "  }\n",
              "\n",
              "  .colab-df-quickchart-complete:disabled,\n",
              "  .colab-df-quickchart-complete:disabled:hover {\n",
              "    background-color: var(--disabled-bg-color);\n",
              "    fill: var(--disabled-fill-color);\n",
              "    box-shadow: none;\n",
              "  }\n",
              "\n",
              "  .colab-df-spinner {\n",
              "    border: 2px solid var(--fill-color);\n",
              "    border-color: transparent;\n",
              "    border-bottom-color: var(--fill-color);\n",
              "    animation:\n",
              "      spin 1s steps(1) infinite;\n",
              "  }\n",
              "\n",
              "  @keyframes spin {\n",
              "    0% {\n",
              "      border-color: transparent;\n",
              "      border-bottom-color: var(--fill-color);\n",
              "      border-left-color: var(--fill-color);\n",
              "    }\n",
              "    20% {\n",
              "      border-color: transparent;\n",
              "      border-left-color: var(--fill-color);\n",
              "      border-top-color: var(--fill-color);\n",
              "    }\n",
              "    30% {\n",
              "      border-color: transparent;\n",
              "      border-left-color: var(--fill-color);\n",
              "      border-top-color: var(--fill-color);\n",
              "      border-right-color: var(--fill-color);\n",
              "    }\n",
              "    40% {\n",
              "      border-color: transparent;\n",
              "      border-right-color: var(--fill-color);\n",
              "      border-top-color: var(--fill-color);\n",
              "    }\n",
              "    60% {\n",
              "      border-color: transparent;\n",
              "      border-right-color: var(--fill-color);\n",
              "    }\n",
              "    80% {\n",
              "      border-color: transparent;\n",
              "      border-right-color: var(--fill-color);\n",
              "      border-bottom-color: var(--fill-color);\n",
              "    }\n",
              "    90% {\n",
              "      border-color: transparent;\n",
              "      border-bottom-color: var(--fill-color);\n",
              "    }\n",
              "  }\n",
              "</style>\n",
              "\n",
              "      <script>\n",
              "        async function quickchart(key) {\n",
              "          const quickchartButtonEl =\n",
              "            document.querySelector('#' + key + ' button');\n",
              "          quickchartButtonEl.disabled = true;  // To prevent multiple clicks.\n",
              "          quickchartButtonEl.classList.add('colab-df-spinner');\n",
              "          try {\n",
              "            const charts = await google.colab.kernel.invokeFunction(\n",
              "                'suggestCharts', [key], {});\n",
              "          } catch (error) {\n",
              "            console.error('Error during call to suggestCharts:', error);\n",
              "          }\n",
              "          quickchartButtonEl.classList.remove('colab-df-spinner');\n",
              "          quickchartButtonEl.classList.add('colab-df-quickchart-complete');\n",
              "        }\n",
              "        (() => {\n",
              "          let quickchartButtonEl =\n",
              "            document.querySelector('#df-cf4b5295-6654-4f1b-8726-46afde459d49 button');\n",
              "          quickchartButtonEl.style.display =\n",
              "            google.colab.kernel.accessAllowed ? 'block' : 'none';\n",
              "        })();\n",
              "      </script>\n",
              "    </div>\n",
              "\n",
              "    </div>\n",
              "  </div>\n"
            ],
            "application/vnd.google.colaboratory.intrinsic+json": {
              "type": "dataframe",
              "variable_name": "df",
              "summary": "{\n  \"name\": \"df\",\n  \"rows\": 7267,\n  \"fields\": [\n    {\n      \"column\": \"customerID\",\n      \"properties\": {\n        \"dtype\": \"string\",\n        \"num_unique_values\": 7267,\n        \"samples\": [\n          \"2038-OEQZH\",\n          \"6322-HRPFA\",\n          \"3969-JQABI\"\n        ],\n        \"semantic_type\": \"\",\n        \"description\": \"\"\n      }\n    },\n    {\n      \"column\": \"Churn\",\n      \"properties\": {\n        \"dtype\": \"category\",\n        \"num_unique_values\": 3,\n        \"samples\": [\n          \"No\",\n          \"Yes\",\n          \"\"\n        ],\n        \"semantic_type\": \"\",\n        \"description\": \"\"\n      }\n    },\n    {\n      \"column\": \"customer\",\n      \"properties\": {\n        \"dtype\": \"object\",\n        \"semantic_type\": \"\",\n        \"description\": \"\"\n      }\n    },\n    {\n      \"column\": \"phone\",\n      \"properties\": {\n        \"dtype\": \"object\",\n        \"semantic_type\": \"\",\n        \"description\": \"\"\n      }\n    },\n    {\n      \"column\": \"internet\",\n      \"properties\": {\n        \"dtype\": \"object\",\n        \"semantic_type\": \"\",\n        \"description\": \"\"\n      }\n    },\n    {\n      \"column\": \"account\",\n      \"properties\": {\n        \"dtype\": \"object\",\n        \"semantic_type\": \"\",\n        \"description\": \"\"\n      }\n    }\n  ]\n}"
            }
          },
          "metadata": {},
          "execution_count": 196
        }
      ]
    },
    {
      "cell_type": "code",
      "source": [
        "df.describe()"
      ],
      "metadata": {
        "id": "N6AupBshzGF4"
      },
      "execution_count": null,
      "outputs": []
    },
    {
      "cell_type": "code",
      "source": [
        "# Ver como é o conteúdo da coluna 'customer'\n",
        "df['customer'].head()\n",
        "\n"
      ],
      "metadata": {
        "id": "ZlJpNhN2Fwj8"
      },
      "execution_count": null,
      "outputs": []
    },
    {
      "cell_type": "code",
      "source": [
        "print(df['phone'].head())\n",
        "print(df['internet'].head())\n",
        "print(df['account'].head())\n"
      ],
      "metadata": {
        "id": "HFFVfmG2GEAv"
      },
      "execution_count": null,
      "outputs": []
    },
    {
      "cell_type": "code",
      "source": [
        "# Expandindo a coluna 'customer'\n",
        "customer_df = pd.json_normalize(df['customer'])\n",
        "\n",
        "# Expandindo a coluna 'phone'\n",
        "phone_df = pd.json_normalize(df['phone'])\n",
        "\n",
        "# Expandindo a coluna 'internet'\n",
        "internet_df = pd.json_normalize(df['internet'])\n",
        "\n",
        "# Expandindo a coluna 'account'\n",
        "account_df = pd.json_normalize(df['account'])\n"
      ],
      "metadata": {
        "id": "hyqhxk9YGME-"
      },
      "execution_count": null,
      "outputs": []
    },
    {
      "cell_type": "code",
      "source": [
        "# Concatenando tudo\n",
        "df_final = pd.concat([df.drop(['customer', 'phone', 'internet', 'account'], axis=1),\n",
        "                      customer_df, phone_df, internet_df, account_df], axis=1)\n",
        "\n",
        "# Visualizando o resultado\n",
        "df_final.head()\n"
      ],
      "metadata": {
        "id": "B1VRnHjpGPzc"
      },
      "execution_count": null,
      "outputs": []
    },
    {
      "cell_type": "markdown",
      "source": [
        "## Criação da coluna de contas diárias"
      ],
      "metadata": {
        "id": "_t-RSQxJHXME"
      }
    },
    {
      "cell_type": "markdown",
      "source": [
        "### fórmula para calcular o valor diário\n",
        "Contas_Diarias = Charges.Monthly / 30\n"
      ],
      "metadata": {
        "id": "rdKkJaoXHmBS"
      }
    },
    {
      "cell_type": "code",
      "source": [
        "df_final['Contas_Diarias'] = df_final['Charges.Monthly'] / 30\n"
      ],
      "metadata": {
        "id": "KjvRz0jJIJI0"
      },
      "execution_count": null,
      "outputs": []
    },
    {
      "cell_type": "code",
      "source": [
        "df_final[['Charges.Monthly', 'Contas_Diarias']].head()\n"
      ],
      "metadata": {
        "id": "mrQ_IvicIQDE"
      },
      "execution_count": null,
      "outputs": []
    },
    {
      "cell_type": "code",
      "source": [
        "plt.figure(figsize=(8,5))\n",
        "sns.histplot(df_final['Contas_Diarias'], bins=30, kde=True)\n",
        "plt.title('Distribuição das Contas Diárias dos Clientes')\n",
        "plt.xlabel('Valor Diário (R$)')\n",
        "plt.ylabel('Quantidade de Clientes')\n",
        "plt.show()\n"
      ],
      "metadata": {
        "id": "Wc1a2V3zIg9N"
      },
      "execution_count": null,
      "outputs": []
    },
    {
      "cell_type": "code",
      "source": [
        "plt.figure(figsize=(8,5))\n",
        "sns.boxplot(x='Churn', y='Contas_Diarias', data=df_final)\n",
        "plt.title('Contas Diárias x Churn')\n",
        "plt.show()\n"
      ],
      "metadata": {
        "id": "78YIxIt8InLX"
      },
      "execution_count": null,
      "outputs": []
    },
    {
      "cell_type": "code",
      "source": [
        "# Verificando valores únicos de todas as colunas categóricas\n",
        "for coluna in df_final.columns:\n",
        "    if df_final[coluna].dtype == 'object':\n",
        "        print(f\"\\nColuna: {coluna}\")\n",
        "        print(df_final[coluna].unique())\n"
      ],
      "metadata": {
        "id": "WjU84ptwJP_f"
      },
      "execution_count": null,
      "outputs": []
    },
    {
      "cell_type": "code",
      "source": [
        "# renomeando as colunas\n",
        "df_final.rename(columns={\n",
        "    'customerID': 'ID_Cliente',\n",
        "    'Charges.Monthly': 'Faturamento_Mensal',\n",
        "    'gender': 'Gênero',\n",
        "    'SeniorCitizen': 'Idoso',\n",
        "    'Partner': 'Parceiro',\n",
        "    'Dependents': 'Dependentes',\n",
        "    'tenure': 'MesesContrato',\n",
        "    'PhoneService': 'AssinaturaTelefone',\n",
        "    'MultipleLines': 'MultiplasLinhas',\n",
        "    'InternetService': 'AssinaturaInternet',\n",
        "    'OnlineSecurity': 'SegurancaOnline',\n",
        "    'OnlineBackup': 'BackupOnline',\n",
        "    'DeviceProtection': 'ProtecaoDispositivo',\n",
        "    'TechSupport': 'SuporteTecnico',\n",
        "    'StreamingTV': 'StreamingTV',\n",
        "    'StreamingMovies': 'StreamingFilmes',\n",
        "    'Contract': 'TipoContrato',\n",
        "    'PaperlessBilling': 'FaturaOnline',\n",
        "    'PaymentMethod': 'FormaPagamento',\n",
        "    'Charges.Total': 'FaturamentoTotal',\n",
        "    'Contas_Diarias': 'Contas_Diarias',\n",
        "\n",
        "}, inplace=True)\n"
      ],
      "metadata": {
        "id": "493WBvYSLJek"
      },
      "execution_count": null,
      "outputs": []
    },
    {
      "cell_type": "code",
      "source": [
        "df_final.head()\n",
        "df_final.info()\n"
      ],
      "metadata": {
        "id": "y5ygg9wOMJUw"
      },
      "execution_count": null,
      "outputs": []
    },
    {
      "cell_type": "markdown",
      "source": [
        "#📊 Carga e análise"
      ],
      "metadata": {
        "id": "BQ0ZDO6yxoDp"
      }
    },
    {
      "cell_type": "code",
      "source": [
        "# Contagem absoluta\n",
        "print(df_final['Churn'].value_counts())\n",
        "\n",
        "# Porcentagem\n",
        "print(df_final['Churn'].value_counts(normalize=True) * 100)\n",
        "\n",
        "# Gráfico\n",
        "sns.countplot(x='Churn', data=df_final)\n",
        "plt.title('Distribuição de Clientes - Churn vs Não-Churn')\n",
        "plt.show()\n"
      ],
      "metadata": {
        "id": "ib8Czxzex6q9"
      },
      "execution_count": null,
      "outputs": []
    },
    {
      "cell_type": "markdown",
      "source": [
        "📊 Análise Descritiva\n",
        "\n",
        "\n",
        "\n",
        "\n"
      ],
      "metadata": {
        "id": "2jMH3fmhOY25"
      }
    },
    {
      "cell_type": "code",
      "source": [
        "# Estatísticas descritivas das variáveis numéricas\n",
        "df_final.describe()\n"
      ],
      "metadata": {
        "id": "pb_3OIWeOIDN"
      },
      "execution_count": null,
      "outputs": []
    },
    {
      "cell_type": "code",
      "source": [
        "\n",
        "fig, axs = plt.subplots(2, 2, figsize=(14, 8))\n",
        "\n",
        "# Gráfico 1: Idosos\n",
        "sns.histplot(df_final['Idoso'], bins=30, kde=True, ax=axs[0, 0])\n",
        "axs[0, 0].set_title('Distribuição de Clientes Idosos')\n",
        "\n",
        "# Gráfico 2: Faturamento Mensal\n",
        "sns.histplot(df_final['Faturamento_Mensal'], bins=30, kde=True, ax=axs[0, 1])\n",
        "axs[0, 1].set_title('Distribuição do Faturamento Mensal')\n",
        "\n",
        "# Gráfico 3: Meses de Contrato\n",
        "sns.histplot(df_final['MesesContrato'], bins=30, kde=True, ax=axs[1, 0])\n",
        "axs[1, 0].set_title('Distribuição do Tempo de Contrato (em Meses)')\n",
        "\n",
        "# Gráfico 4: Contas Diárias\n",
        "sns.histplot(df_final['Contas_Diarias'], bins=30, kde=True, ax=axs[1, 1])\n",
        "axs[1, 1].set_title('Distribuição do Gasto Diário')\n",
        "\n",
        "# Ajustando espaçamento\n",
        "plt.tight_layout()\n",
        "plt.show()\n",
        "\n"
      ],
      "metadata": {
        "id": "_kePYocqO4LS"
      },
      "execution_count": null,
      "outputs": []
    },
    {
      "cell_type": "code",
      "source": [
        "plt.figure(figsize=(10,8))\n",
        "sns.heatmap(df_final.corr(numeric_only=True), annot=True, cmap='Blues', fmt=\".2f\")\n",
        "plt.title('Mapa de Correlação entre Variáveis Numéricas')\n",
        "plt.show()\n"
      ],
      "metadata": {
        "id": "-qb-qMAgQgXF"
      },
      "execution_count": null,
      "outputs": []
    },
    {
      "cell_type": "code",
      "source": [
        "# Padronizar os textos e mapear corretamente para binário\n",
        "df_final['Churn'] = df_final['Churn'].astype(str).str.strip().str.lower()\n",
        "df_final['Churn'] = df_final['Churn'].map({'sim': 1, 'não': 0})\n",
        "\n",
        "\n"
      ],
      "metadata": {
        "id": "2_kwSlSDnmbF"
      },
      "execution_count": null,
      "outputs": []
    },
    {
      "cell_type": "code",
      "source": [
        "print(df_final['Churn'].value_counts())\n",
        "print(df_final['Churn'].dtypes)\n"
      ],
      "metadata": {
        "id": "O5WPX41voE-R"
      },
      "execution_count": null,
      "outputs": []
    },
    {
      "cell_type": "code",
      "source": [
        "# Recarrega a coluna original diretamente da fonte confiável\n",
        "url = \"https://raw.githubusercontent.com/alura-cursos/challenge2-data-science/main/TelecomX_Data.json\"\n",
        "df_original = pd.read_json(url)\n",
        "\n",
        "# Substitui a coluna 'Churn' no df_final\n",
        "df_final['Churn'] = df_original['Churn']\n",
        "\n",
        "# Força a conversão segura\n",
        "df_final['Churn'] = df_final['Churn'].astype(str).str.strip().str.lower()\n",
        "df_final['Churn'] = df_final['Churn'].replace({'sim': 1, 'não': 0})\n",
        "\n",
        "# Verifica\n",
        "print(df_final['Churn'].value_counts())\n",
        "print(df_final['Churn'].dtypes)\n"
      ],
      "metadata": {
        "id": "-6zbwZhIooQW"
      },
      "execution_count": null,
      "outputs": []
    },
    {
      "cell_type": "code",
      "source": [
        "# Verificar o que realmente está na coluna\n",
        "print(df_final['Churn'].unique())\n"
      ],
      "metadata": {
        "id": "ackPy0ClpQN-"
      },
      "execution_count": null,
      "outputs": []
    },
    {
      "cell_type": "code",
      "source": [
        "# Padronizar como string e minúsculo\n",
        "df_final['Churn'] = df_final['Churn'].astype(str).str.strip().str.lower()\n",
        "\n",
        "# Mapear várias possíveis formas de \"sim\" e \"não\"\n",
        "df_final['Churn'] = df_final['Churn'].replace({\n",
        "    'sim': 1, 'yes': 1, '1': 1, 'true': 1,\n",
        "    'não': 0, 'nao': 0, 'no': 0, '0': 0, 'false': 0\n",
        "})\n"
      ],
      "metadata": {
        "id": "cyczSGegpT7e"
      },
      "execution_count": null,
      "outputs": []
    },
    {
      "cell_type": "code",
      "source": [
        "print(df_final['Churn'].value_counts())\n",
        "print(df_final['Churn'].dtypes)\n"
      ],
      "metadata": {
        "id": "s-Aa9uZRpWeX"
      },
      "execution_count": null,
      "outputs": []
    },
    {
      "cell_type": "code",
      "source": [
        "# Padronizar tudo como string minúscula\n",
        "df_final['Churn'] = df_final['Churn'].astype(str).str.strip().str.lower()\n",
        "\n",
        "# Mapear todas as variações comuns de 'sim' e 'não'\n",
        "df_final['Churn'] = df_final['Churn'].replace({\n",
        "    'sim': 1, 'yes': 1, '1': 1, 'true': 1,\n",
        "    'não': 0, 'nao': 0, 'no': 0, '0': 0, 'false': 0\n",
        "})\n",
        "\n",
        "# Remover valores inválidos (tudo que não for 0 ou 1)\n",
        "df_final = df_final[df_final['Churn'].isin([0, 1])]\n",
        "\n",
        "# Forçar tipo inteiro\n",
        "df_final['Churn'] = df_final['Churn'].astype(int)\n",
        "\n",
        "# Verificar se agora está ok\n",
        "print(df_final['Churn'].value_counts())\n",
        "print(df_final['Churn'].dtypes)\n"
      ],
      "metadata": {
        "id": "WbhZKJCzpsSu"
      },
      "execution_count": null,
      "outputs": []
    },
    {
      "cell_type": "code",
      "source": [
        "correlacao = df_final[['Churn', 'MesesContrato']].corr().iloc[0, 1]\n",
        "print(f\"Correlação entre Churn e Tempo de Contrato: {correlacao:.2f}\")\n"
      ],
      "metadata": {
        "id": "fyE-QdHqpwao"
      },
      "execution_count": null,
      "outputs": []
    },
    {
      "cell_type": "code",
      "source": [
        "\n",
        "# Estatísticas para completar o resumo\n",
        "idade_media = df_final['Idoso'].mean()\n",
        "idade_min = df_final['Idoso'].min()\n",
        "idade_max = df_final['Idoso'].max()\n",
        "\n",
        "tempo_medio = df_final['MesesContrato'].mean()\n",
        "tempo_min = df_final['MesesContrato'].min()\n",
        "tempo_max = df_final['MesesContrato'].max()\n",
        "\n",
        "faturamento_medio = df_final['Faturamento_Mensal'].mean()\n",
        "faturamento_min = df_final['Faturamento_Mensal'].min()\n",
        "faturamento_max = df_final['Faturamento_Mensal'].max()\n",
        "\n",
        "gasto_medio_diario = df_final['Contas_Diarias'].mean()\n",
        "gasto_min = df_final['Contas_Diarias'].min()\n",
        "gasto_max = df_final['Contas_Diarias'].max()\n",
        "\n",
        "# Correlação com Churn\n",
        "correlacao = df_final[['Churn', 'MesesContrato']].corr().iloc[0, 1]\n",
        "\n",
        "# Impressão dos resultados\n",
        "print(f\"Média de idosos (proporção): {idade_media:.2f}\")\n",
        "print(f\"Idade mínima (0 = não idoso): {idade_min}\")\n",
        "print(f\"Idade máxima (1 = idoso): {idade_max}\")\n",
        "\n",
        "print(f\"Média de tempo de contrato: {tempo_medio:.2f} meses\")\n",
        "print(f\"Tempo mínimo de contrato: {tempo_min} meses\")\n",
        "print(f\"Tempo máximo de contrato: {tempo_max} meses\")\n",
        "\n",
        "print(f\"Faturamento médio mensal: R$ {faturamento_medio:.2f}\")\n",
        "print(f\"Faturamento mínimo mensal: R$ {faturamento_min:.2f}\")\n",
        "print(f\"Faturamento máximo mensal: R$ {faturamento_max:.2f}\")\n",
        "\n",
        "print(f\"Gasto médio diário: R$ {gasto_medio_diario:.2f}\")\n",
        "print(f\"Gasto mínimo diário: R$ {gasto_min:.2f}\")\n",
        "print(f\"Gasto máximo diário: R$ {gasto_max:.2f}\")\n",
        "\n",
        "print(f\"Correlação entre Churn e Tempo de Contrato: {correlacao:.2f}\")\n"
      ],
      "metadata": {
        "id": "XpvpwCzznPpU"
      },
      "execution_count": null,
      "outputs": []
    },
    {
      "cell_type": "markdown",
      "source": [
        "\n",
        "📊 Resumo da Análise Descritiva\n",
        "\n",
        "🧓 Idade:\n",
        "A média de idosos na base é 16% dos clientes (0.16 na coluna Idoso, onde 1 = idoso e 0 = não idoso).\n",
        "\n",
        "O valor mínimo é 0 e o máximo é 1, indicando que essa variável é binária (sim/não).\n",
        "\n",
        "📅 Tempo de Contrato:\n",
        "A média de tempo de contrato dos clientes é de 32,35 meses.\n",
        "\n",
        "O menor tempo de contrato registrado é de 0 meses e o maior é de 72 meses.\n",
        "\n",
        "Isso sugere que muitos clientes estão na base há menos de 3 anos, o que pode indicar rotatividade alta de clientes.\n",
        "\n",
        "💸 Faturamento Mensal:\n",
        "O gasto médio mensal dos clientes é de R$ 64,72.\n",
        "\n",
        "Os valores variam de R$ 18,25 até  R$ 118,75, indicando uma grande variedade nos pacotes contratados.\n",
        "\n",
        "📆 Gasto Diário (Contas_Diarias):\n",
        "O gasto médio por dia é de R$ 2,16.\n",
        "\n",
        "O gasto mínimo diário é R$ 0,61  e o máximo  R$ 3,96.\n",
        "\n",
        "Isso ajuda a analisar micro-comportamentos de consumo e pode ser útil para ofertas personalizadas.\n",
        "\n",
        "🔗 Correlação:\n",
        "A correlação entre Churn e Tempo de Contrato é de -0.35.\n",
        "\n",
        "Isso indica uma correlação negativa moderada, ou seja:\n",
        "quanto mais tempo o cliente permanece, menor a chance de cancelar o serviço."
      ],
      "metadata": {
        "id": "mv7ooJt0UVM3"
      }
    },
    {
      "cell_type": "code",
      "source": [
        "!pip install plotly -q\n"
      ],
      "metadata": {
        "id": "j3XDQhQJq3kI"
      },
      "execution_count": null,
      "outputs": []
    },
    {
      "cell_type": "code",
      "source": [
        "!pip install ipywidgets -q\n"
      ],
      "metadata": {
        "id": "s6twaJBXuQf2"
      },
      "execution_count": null,
      "outputs": []
    },
    {
      "cell_type": "code",
      "source": [
        "import ipywidgets as widgets\n",
        "from IPython.display import display\n",
        "import plotly.express as px\n",
        "import pandas as pd\n"
      ],
      "metadata": {
        "id": "UFz7ITVLubru"
      },
      "execution_count": null,
      "outputs": []
    },
    {
      "cell_type": "code",
      "source": [
        "# Criando coluna categórica para legenda explicativa\n",
        "df_final['Idade_Churn'] = df_final['Churn'].map({0: 'Menor que 65 anos', 1: 'Igual ou maior que 65 anos'})\n"
      ],
      "metadata": {
        "id": "oEO3c39Hsakh"
      },
      "execution_count": null,
      "outputs": []
    },
    {
      "cell_type": "code",
      "source": [
        "import plotly.express as px\n",
        "\n",
        "# 1. Pizza: Proporção de Churn com legenda explicativa\n",
        "fig_pizza = px.pie(df_final, names='Idade_Churn', title='Proporção de Clientes por Idade (Churn)',\n",
        "                   color='Idade_Churn',\n",
        "                   color_discrete_map={'Menor que 65 anos':'lightgreen', 'Igual ou maior que 65 anos':'salmon'},\n",
        "                   hole=0.4)\n",
        "fig_pizza.show()\n",
        "\n",
        "# 2. Histograma interativo: Tempo de Contrato por Idade_Churn\n",
        "fig_hist = px.histogram(df_final, x='MesesContrato', color='Idade_Churn',\n",
        "                        title='Tempo de Contrato por Idade (Churn)',\n",
        "                        color_discrete_map={'Menor que 65 anos':'green', 'Igual ou maior que 65 anos':'red'},\n",
        "                        nbins=30, barmode='overlay')\n",
        "fig_hist.update_traces(opacity=0.6)\n",
        "fig_hist.show()\n",
        "\n",
        "# 3. Dispersão: Faturamento Mensal x Tempo de Contrato com legenda explicativa\n",
        "fig_disp = px.scatter(df_final, x='MesesContrato', y='Faturamento_Mensal', color='Idade_Churn',\n",
        "                      title='Relação entre Tempo de Contrato e Faturamento por Idade (Churn)',\n",
        "                      color_discrete_map={'Menor que 65 anos':'blue', 'Igual ou maior que 65 anos':'orange'},\n",
        "                      opacity=0.5)\n",
        "fig_disp.show()\n",
        "\n",
        "# 4. Gráfico de barras: Comparando Idoso com legenda de churn\n",
        "fig_barras = px.histogram(df_final, x='Idoso', color='Idade_Churn', barmode='group',\n",
        "                          title='Distribuição de Idosos por Idade (Churn)',\n",
        "                          color_discrete_map={'Menor que 65 anos':'lightblue', 'Igual ou maior que 65 anos':'tomato'})\n",
        "fig_barras.update_layout(xaxis_title='É Idoso?', yaxis_title='Contagem')\n",
        "fig_barras.show()\n"
      ],
      "metadata": {
        "id": "kPOLlp7ZsfVD"
      },
      "execution_count": null,
      "outputs": []
    },
    {
      "cell_type": "code",
      "source": [
        "# Opções para o filtro\n",
        "options = ['Todos', 'Menor que 65 anos', 'Igual ou maior que 65 anos']\n",
        "\n",
        "# Dropdown para escolher filtro\n",
        "dropdown = widgets.Dropdown(\n",
        "    options=options,\n",
        "    value='Todos',\n",
        "    description='Filtrar Idade:',\n",
        "    disabled=False,\n",
        ")\n",
        "display(dropdown)\n"
      ],
      "metadata": {
        "id": "HG9GRQ_fumph"
      },
      "execution_count": null,
      "outputs": []
    },
    {
      "cell_type": "code",
      "source": [
        "def update_graphs(filtro):\n",
        "    if filtro == 'Todos':\n",
        "        df_filtrado = df_final.copy()\n",
        "    else:\n",
        "        df_filtrado = df_final[df_final['Idade_Churn'] == filtro]\n",
        "\n",
        "    # Pizza\n",
        "    fig_pizza = px.pie(df_filtrado, names='Idade_Churn', title='Proporção de Clientes por Idade (Churn)',\n",
        "                       color='Idade_Churn',\n",
        "                       color_discrete_map={'Menor que 65 anos':'lightgreen', 'Igual ou maior que 65 anos':'salmon'},\n",
        "                       hole=0.4)\n",
        "    fig_pizza.show()\n",
        "\n",
        "    # Histograma\n",
        "    fig_hist = px.histogram(df_filtrado, x='MesesContrato', color='Idade_Churn',\n",
        "                            title='Tempo de Contrato por Idade (Churn)',\n",
        "                            color_discrete_map={'Menor que 65 anos':'green', 'Igual ou maior que 65 anos':'red'},\n",
        "                            nbins=30, barmode='overlay')\n",
        "    fig_hist.update_traces(opacity=0.6)\n",
        "    fig_hist.show()\n",
        "\n",
        "    # Dispersão\n",
        "    fig_disp = px.scatter(df_filtrado, x='MesesContrato', y='Faturamento_Mensal', color='Idade_Churn',\n",
        "                          title='Relação entre Tempo de Contrato e Faturamento por Idade (Churn)',\n",
        "                          color_discrete_map={'Menor que 65 anos':'blue', 'Igual ou maior que 65 anos':'orange'},\n",
        "                          opacity=0.5)\n",
        "    fig_disp.show()\n",
        "\n",
        "    # Barras\n",
        "    fig_barras = px.histogram(df_filtrado, x='Idoso', color='Idade_Churn', barmode='group',\n",
        "                              title='Distribuição de Idosos por Idade (Churn)',\n",
        "                              color_discrete_map={'Menor que 65 anos':'lightblue', 'Igual ou maior que 65 anos':'tomato'})\n",
        "    fig_barras.update_layout(xaxis_title='É Idoso?', yaxis_title='Contagem')\n",
        "    fig_barras.show()\n"
      ],
      "metadata": {
        "id": "EXnvgGF3usQr"
      },
      "execution_count": null,
      "outputs": []
    },
    {
      "cell_type": "code",
      "source": [
        "widgets.interact(update_graphs, filtro=dropdown);\n"
      ],
      "metadata": {
        "collapsed": true,
        "id": "6emRFDVBu0Dt"
      },
      "execution_count": null,
      "outputs": []
    },
    {
      "cell_type": "code",
      "source": [
        "import ipywidgets as widgets\n",
        "from IPython.display import display, clear_output\n",
        "import plotly.express as px\n",
        "\n",
        "# Dropdown de filtro\n",
        "options = ['Todos', 'Menor que 65 anos', 'Igual ou maior que 65 anos']\n",
        "dropdown = widgets.Dropdown(options=options, value='Todos', description='Filtrar Idade:')\n",
        "\n",
        "output = widgets.Output()\n",
        "\n",
        "def update_graphs(change):\n",
        "    with output:\n",
        "        clear_output(wait=True)  # limpa saída anterior\n",
        "\n",
        "        filtro = change['new']\n",
        "        if filtro == 'Todos':\n",
        "            df_filtrado = df_final.copy()\n",
        "        else:\n",
        "            df_filtrado = df_final[df_final['Idade_Churn'] == filtro]\n",
        "\n",
        "        # Pizza\n",
        "        fig_pizza = px.pie(df_filtrado, names='Idade_Churn', title='Proporção de Clientes por Idade (Churn)',\n",
        "                           color='Idade_Churn',\n",
        "                           color_discrete_map={'Menor que 65 anos':'lightgreen', 'Igual ou maior que 65 anos':'salmon'},\n",
        "                           hole=0.4)\n",
        "        fig_pizza.show()\n",
        "\n",
        "        # Histograma\n",
        "        fig_hist = px.histogram(df_filtrado, x='MesesContrato', color='Idade_Churn',\n",
        "                                title='Tempo de Contrato por Idade (Churn)',\n",
        "                                color_discrete_map={'Menor que 65 anos':'green', 'Igual ou maior que 65 anos':'red'},\n",
        "                                nbins=30, barmode='overlay')\n",
        "        fig_hist.update_traces(opacity=0.6)\n",
        "        fig_hist.show()\n",
        "\n",
        "        # Dispersão\n",
        "        fig_disp = px.scatter(df_filtrado, x='MesesContrato', y='Faturamento_Mensal', color='Idade_Churn',\n",
        "                              title='Relação entre Tempo de Contrato e Faturamento por Idade (Churn)',\n",
        "                              color_discrete_map={'Menor que 65 anos':'blue', 'Igual ou maior que 65 anos':'orange'},\n",
        "                              opacity=0.5)\n",
        "        fig_disp.show()\n",
        "\n",
        "        # Barras\n",
        "        fig_barras = px.histogram(df_filtrado, x='Idoso', color='Idade_Churn', barmode='group',\n",
        "                                  title='Distribuição de Idosos por Idade (Churn)',\n",
        "                                  color_discrete_map={'Menor que 65 anos':'lightblue', 'Igual ou maior que 65 anos':'tomato'})\n",
        "        fig_barras.update_layout(xaxis_title='É Idoso?', yaxis_title='Contagem')\n",
        "        fig_barras.show()\n",
        "\n",
        "# Chama a função quando o dropdown mudar de valor\n",
        "dropdown.observe(update_graphs, names='value')\n",
        "\n",
        "display(dropdown, output)\n",
        "\n",
        "# Mostrar gráficos iniciais sem filtro\n",
        "update_graphs({'new': 'Todos'})\n"
      ],
      "metadata": {
        "collapsed": true,
        "id": "XwHxUphnvf6V"
      },
      "execution_count": null,
      "outputs": []
    },
    {
      "cell_type": "markdown",
      "source": [
        "### proporção de clientes que permaneceram e os que cancelaram, em porcentagem"
      ],
      "metadata": {
        "id": "73I3uYQxwcPL"
      }
    },
    {
      "cell_type": "code",
      "source": [
        "import plotly.express as px\n",
        "\n",
        "# Usar a coluna já tratada 'Churn' e criar uma coluna categórica para legenda\n",
        "df_final['Status_Cliente'] = df_final['Churn'].map({0: 'Permaneceu', 1: 'Saiu'})\n",
        "\n",
        "fig = px.pie(df_final, names='Status_Cliente',\n",
        "             title='Proporção de Clientes: Permaneceram vs Saíram',\n",
        "             color='Status_Cliente',\n",
        "             color_discrete_map={'Permaneceu': 'lightgreen', 'Saiu': 'salmon'},\n",
        "             hole=0.4)\n",
        "fig.show()\n"
      ],
      "metadata": {
        "id": "LXReolPzwKss"
      },
      "execution_count": null,
      "outputs": []
    },
    {
      "cell_type": "code",
      "source": [
        "import seaborn as sns\n",
        "import matplotlib.pyplot as plt\n",
        "\n",
        "plt.figure(figsize=(6,4))\n",
        "sns.countplot(data=df_final, x='Status_Cliente', palette=['lightgreen', 'salmon'])\n",
        "plt.title('Quantidade de Clientes que Permaneceram vs Saíram')\n",
        "plt.xlabel('Status do Cliente')\n",
        "plt.ylabel('Contagem')\n",
        "plt.show()\n"
      ],
      "metadata": {
        "id": "I1UtpuSuwXoS"
      },
      "execution_count": null,
      "outputs": []
    },
    {
      "cell_type": "markdown",
      "source": [
        "### Analisando a evasão (churn) em função de variáveis categóricas"
      ],
      "metadata": {
        "id": "WIkBpMSCxJXb"
      }
    },
    {
      "cell_type": "code",
      "source": [
        "# Listar colunas do tipo 'object' para identificar variáveis categóricas\n",
        "categorical_cols = df_final.select_dtypes(include='object').columns.tolist()\n",
        "print(\"Colunas categóricas:\", categorical_cols)\n"
      ],
      "metadata": {
        "id": "OthGEydTxQ_C"
      },
      "execution_count": null,
      "outputs": []
    },
    {
      "cell_type": "code",
      "source": [
        "# Ajustar gênero\n",
        "df_final['Gênero'] = df_final['Gênero'].str.strip().str.lower()  # limpar espaços e padronizar\n",
        "df_final['Gênero'] = df_final['Gênero'].map({'female': 'Feminino', 'male': 'Masculino'})\n",
        "\n",
        "# Ajustar TipoContrato (Contract)\n",
        "df_final['TipoContrato'] = df_final['TipoContrato'].str.strip().str.lower()\n",
        "df_final['TipoContrato'] = df_final['TipoContrato'].map({\n",
        "    'one year': '1 ano',\n",
        "    'two year': '2 anos',\n",
        "    'month-to-month': 'Mensal'\n",
        "})\n"
      ],
      "metadata": {
        "id": "i7Xj2MvxzHMW"
      },
      "execution_count": null,
      "outputs": []
    },
    {
      "cell_type": "code",
      "source": [
        "import plotly.express as px\n",
        "\n",
        "# Lista de variáveis categóricas para analisar - substitua pelos seus nomes reais\n",
        "variaveis = ['Gênero', 'TipoContrato', 'FormaPagamento']\n",
        "\n",
        "for var in variaveis:\n",
        "    if var in df_final.columns:\n",
        "        fig = px.histogram(df_final, x=var, color='Status_Cliente', barmode='group',\n",
        "                           title=f'Evasão por {var}',\n",
        "                           color_discrete_map={'Permaneceu': 'lightgreen', 'Saiu': 'salmon'})\n",
        "        fig.show()\n",
        "    else:\n",
        "        print(f\"A variável '{var}' não está no dataset.\")\n"
      ],
      "metadata": {
        "id": "qP9JU0h8xTOh"
      },
      "execution_count": null,
      "outputs": []
    },
    {
      "cell_type": "code",
      "source": [
        "df_final"
      ],
      "metadata": {
        "id": "Kt0YFuH8xmvB"
      },
      "execution_count": null,
      "outputs": []
    },
    {
      "cell_type": "markdown",
      "source": [
        "### Analisando a evasão (churn) em função de variáveis numéricas"
      ],
      "metadata": {
        "id": "_XVZJBAA0x_7"
      }
    },
    {
      "cell_type": "code",
      "source": [
        "import plotly.express as px\n",
        "\n",
        "# Lista de variáveis numéricas a analisar\n",
        "variaveis_numericas = ['MesesContrato', 'Faturamento_Mensal', 'Contas_Diarias']\n",
        "\n",
        "# Títulos mais amigáveis para os gráficos\n",
        "titulos = {\n",
        "    'MesesContrato': 'Distribuição do Tempo de Contrato',\n",
        "    'Faturamento_Mensal': 'Distribuição do Faturamento Mensal',\n",
        "    'Contas_Diarias': 'Distribuição do Gasto Diário'\n",
        "}\n",
        "\n",
        "# Loop para criar um gráfico para cada variável\n",
        "for var in variaveis_numericas:\n",
        "    fig = px.histogram(df_final, x=var, color='Status_Cliente', barmode='overlay',\n",
        "                       nbins=30,\n",
        "                       color_discrete_map={'Permaneceu': 'lightgreen', 'Saiu': 'salmon'},\n",
        "                       title=titulos[var])\n",
        "    fig.update_traces(opacity=0.6)\n",
        "    fig.update_layout(xaxis_title=var, yaxis_title='Contagem')\n",
        "    fig.show()\n"
      ],
      "metadata": {
        "id": "Fm5eB6yK0WE2"
      },
      "execution_count": null,
      "outputs": []
    },
    {
      "cell_type": "markdown",
      "source": [
        "🧠 Como interpretar:\n",
        "\n",
        "Se os clientes que saem (Churn = 1) se concentram em certas faixas (por ex. pouco tempo de contrato ou baixo gasto), isso indica áreas de risco.\n",
        "\n",
        "Sobreposição dos dois grupos ajuda a ver onde está a diferença mais significativa.\n",
        "\n",
        "Podemos ver, por exemplo:\n",
        "\n",
        "Se clientes que pagam pouco por mês tendem a sair mais.\n",
        "\n",
        "Se clientes com contrato curto têm churn alto.\n",
        "\n",
        "Se quem gasta menos por dia é mais instável."
      ],
      "metadata": {
        "id": "l2Su8dg31W0M"
      }
    },
    {
      "cell_type": "markdown",
      "source": [
        "### Gráficos de Densidade"
      ],
      "metadata": {
        "id": "wj2jT-bu1meN"
      }
    },
    {
      "cell_type": "code",
      "source": [
        "import seaborn as sns\n",
        "import matplotlib.pyplot as plt\n",
        "\n",
        "# Estilo do gráfico\n",
        "sns.set(style='whitegrid')\n",
        "\n",
        "# Lista de variáveis numéricas\n",
        "variaveis = ['MesesContrato', 'Faturamento_Mensal', 'Contas_Diarias']\n",
        "\n",
        "# Títulos\n",
        "titulos = ['Tempo de Contrato', 'Faturamento Mensal', 'Gasto Diário']\n",
        "\n",
        "# Criar os subplots (1 linha, 3 colunas)\n",
        "fig, axes = plt.subplots(1, 3, figsize=(20, 5))\n",
        "\n",
        "for i, var in enumerate(variaveis):\n",
        "    ax = axes[i]\n",
        "    sns.kdeplot(data=df_final[df_final['Churn'] == 0], x=var, fill=True, label='Permaneceu', color='green', alpha=0.5, ax=ax)\n",
        "    sns.kdeplot(data=df_final[df_final['Churn'] == 1], x=var, fill=True, label='Saiu (Churn)', color='red', alpha=0.5, ax=ax)\n",
        "    ax.set_title(f'Distribuição de {titulos[i]} por Churn')\n",
        "    ax.set_xlabel(titulos[i])\n",
        "    ax.set_ylabel('Densidade')\n",
        "    ax.legend()\n",
        "\n",
        "plt.tight_layout()\n",
        "plt.show()\n",
        "\n"
      ],
      "metadata": {
        "id": "2-kR3JX41fr0"
      },
      "execution_count": null,
      "outputs": []
    },
    {
      "cell_type": "markdown",
      "source": [
        "Se o pico vermelho (Churn) estiver em uma faixa diferente do pico verde (Permaneceu), temos um padrão de risco.\n",
        "\n",
        "Por exemplo:\n",
        "\n",
        "Se o churn se concentra em contratos mais curtos, é um alerta para reforçar a retenção nesse perfil.\n",
        "\n",
        "Se o churn está entre clientes de baixo gasto, a empresa pode tentar aumentar o valor percebido por esse público.\n",
        "\n"
      ],
      "metadata": {
        "id": "NHDjWpw32VDn"
      }
    },
    {
      "cell_type": "markdown",
      "source": [
        "À esquerda: Como o tempo de contrato varia entre quem saiu e quem ficou.\n",
        "\n",
        "No centro: Diferenças no faturamento mensal.\n",
        "\n",
        "À direita: Distribuição dos gastos diários dos clientes."
      ],
      "metadata": {
        "id": "ehHgQer72FSg"
      }
    },
    {
      "cell_type": "markdown",
      "source": [
        "Cálculo estatístico por grupo de Churn"
      ],
      "metadata": {
        "id": "5BYzlMFM3O1j"
      }
    },
    {
      "cell_type": "code",
      "source": [
        "## Selecionar variáveis numéricas que queremos analisar\n",
        "variaveis_numericas = ['MesesContrato', 'Faturamento_Mensal', 'Contas_Diarias']\n",
        "\n",
        "# Calcular estatísticas por grupo de churn\n",
        "estatisticas_churn = df_final.groupby('Churn')[variaveis_numericas].agg(['mean', 'median', 'std', 'min', 'max'])\n",
        "\n",
        "# Arredondar para 2 casas decimais\n",
        "estatisticas_churn = estatisticas_churn.round(2)\n",
        "\n",
        "# Mostrar resultados\n",
        "estatisticas_churn\n",
        "\n"
      ],
      "metadata": {
        "id": "hVTanx8o26wM"
      },
      "execution_count": null,
      "outputs": []
    },
    {
      "cell_type": "markdown",
      "source": [
        "Se a média de MesesContrato dos clientes com Churn = 1 for muito menor do que a média dos clientes com Churn = 0 → indica que clientes novos saem mais.\n",
        "\n",
        "Se o Faturamento_Mensal médio for menor para quem saiu → pode indicar desinteresse de clientes com planos mais baratos.\n",
        "\n",
        "Se o Gasto Diário também for menor → pode apontar para pouco engajamento ou insatisfação."
      ],
      "metadata": {
        "id": "DRYguBoN4vP9"
      }
    },
    {
      "cell_type": "code",
      "source": [
        "# Limpeza e tradução (ajuste se a sua coluna tiver outro nome)\n",
        "df_final['FormaPagamento'] = df_final['FormaPagamento'].str.strip().str.lower()\n",
        "df_final['FormaPagamento'] = df_final['FormaPagamento'].map({\n",
        "    'bank transfer (automatic)': 'Transferência Bancária',\n",
        "    'credit card (automatic)': 'Cartão de Crédito',\n",
        "    'electronic check': 'Cheque Eletrônico',\n",
        "    'mailed check': 'Boleto Correio'\n",
        "})\n"
      ],
      "metadata": {
        "id": "9TyCz_mj37xR"
      },
      "execution_count": null,
      "outputs": []
    },
    {
      "cell_type": "code",
      "source": [
        "import plotly.express as px\n",
        "\n",
        "fig = px.box(df_final,\n",
        "             x='FormaPagamento',\n",
        "             y='MesesContrato',\n",
        "             color='Status_Cliente',\n",
        "             title='Tempo de Contrato por Método de Pagamento e Status do Cliente',\n",
        "             color_discrete_map={'Permaneceu': 'lightgreen', 'Saiu': 'salmon'},\n",
        "             points='all')  # mostra os pontos individuais\n",
        "fig.update_layout(xaxis_title='Método de Pagamento', yaxis_title='Meses de Contrato')\n",
        "fig.show()\n"
      ],
      "metadata": {
        "id": "POJJu18g369N"
      },
      "execution_count": null,
      "outputs": []
    },
    {
      "cell_type": "markdown",
      "source": [
        "Verifique se certos métodos têm menor mediana de meses para os clientes que saem.\n",
        "\n",
        "Pode indicar que a forma de pagamento tem ligação com fidelidade.\n",
        "\n",
        "Ex: clientes que usam “Cheque Eletrônico” podem ter mais churn com contratos curtos."
      ],
      "metadata": {
        "id": "DvefyrJ_4-WO"
      }
    },
    {
      "cell_type": "markdown",
      "metadata": {
        "id": "v-WzfSvTmaw9"
      },
      "source": [
        "#📄Relatorio Final"
      ]
    },
    {
      "cell_type": "markdown",
      "source": [
        "# 📋 Relatório: Análise de Evasão de Clientes - Telecom X\n",
        "\n",
        "---\n",
        "\n",
        "## 1. Introdução\n",
        "\n",
        "Neste projeto, o objetivo foi analisar o problema de evasão de clientes (churn) da empresa Telecom X, que enfrenta altas taxas de cancelamento. A partir da análise dos dados, buscamos identificar padrões e fatores que influenciam a decisão dos clientes de deixar os serviços, fornecendo informações para ações que possam reduzir essa evasão.\n",
        "\n",
        "---\n",
        "\n",
        "## 2. Limpeza e Tratamento de Dados\n",
        "\n",
        "- Importamos os dados diretamente de uma API no formato JSON.\n",
        "- Realizamos inspeção inicial com `.info()` e `.isnull().sum()` para verificar a presença de valores ausentes.\n",
        "- Tratamos colunas importantes como `Churn`, padronizando para valores binários (0 = permaneceu, 1 = saiu).\n",
        "- Corrigimos nomes e valores de colunas categóricas para facilitar a análise (tradução e padronização).\n",
        "- Criamos a coluna `Contas_Diarias` dividindo o faturamento mensal por 30, para analisar gastos diários.\n",
        "- Eliminamos ou tratamos dados inconsistentes e nulos para garantir a qualidade da análise.\n",
        "\n",
        "---\n",
        "\n",
        "## 3. Análise Exploratória de Dados (EDA)\n",
        "\n",
        "### 3.1 Análise Univariada\n",
        "\n",
        "- Distribuição da variável `Idoso` mostrou que 26,5% dos clientes têm 65 anos ou mais.\n",
        "- Tempo médio de contrato é de aproximadamente 32 meses, com grande variação (0 a 72 meses).\n",
        "- O faturamento médio mensal gira em torno de R$ 64,72,  com mínimos e máximos que indicam diferentes perfis de clientes.\n",
        "\n",
        "- O gasto diário médio estimado foi de R$ 2,16.\n",
        "- A taxa de churn está distribuída em aproximadamente 27% de clientes que saíram.\n",
        "\n",
        "### 3.2 Análise Bivariada\n",
        "\n",
        "- Identificamos que clientes com contratos mais curtos apresentam maior probabilidade de evasão (correlação negativa de -0.35 entre tempo de contrato e churn).\n",
        "- Clientes com determinados métodos de pagamento e tipos de contrato apresentam diferentes taxas de churn (visualizado em heatmaps).\n",
        "- Visualizações de densidade (KDE) mostraram diferenças claras nos perfis de faturamento e tempo de contrato entre clientes que permaneceram e os que saíram.\n",
        "\n",
        "### 3.3 Análise Categórica\n",
        "\n",
        "- A evasão variou conforme gênero, tipo de contrato e método de pagamento.\n",
        "- Clientes do plano mensal (mensalidade) tiveram maior churn em comparação com planos anuais.\n",
        "- Métodos de pagamento como “Boleto Correio” e “Cheque Eletrônico” tiveram taxas mais altas de evasão.\n",
        "\n",
        "---\n",
        "\n",
        "## 4. Conclusões e Insights\n",
        "\n",
        "- O tempo de contrato é um dos principais fatores ligados à evasão: quanto mais longo o contrato, menor a chance de churn.\n",
        "- Métodos de pagamento menos automatizados tendem a apresentar maior taxa de churn.\n",
        "- Clientes com menor gasto diário e faturamento mensal têm maior propensão a cancelar, indicando perfis de menor fidelidade.\n",
        "- A segmentação por perfil do cliente e método de pagamento pode direcionar ações de retenção mais eficazes.\n",
        "\n",
        "---\n",
        "\n",
        "## 5. Recomendações\n",
        "\n",
        "- Investir em ofertas que incentivem contratos mais longos, com descontos ou benefícios.\n",
        "- Priorizar a migração de clientes para métodos de pagamento automatizados para reduzir a evasão.\n",
        "- Desenvolver campanhas específicas para clientes com baixo gasto diário para aumentar engajamento.\n",
        "- Monitorar continuamente os indicadores de churn, especialmente para grupos identificados como de alto risco.\n",
        "\n"
      ],
      "metadata": {
        "id": "5O8l4icf9YoV"
      }
    }
  ],
  "metadata": {
    "colab": {
      "provenance": [],
      "include_colab_link": true
    },
    "kernelspec": {
      "display_name": "Python 3",
      "name": "python3"
    },
    "language_info": {
      "name": "python"
    }
  },
  "nbformat": 4,
  "nbformat_minor": 0
}